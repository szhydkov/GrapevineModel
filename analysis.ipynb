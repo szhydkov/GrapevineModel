{
 "cells": [
  {
   "cell_type": "markdown",
   "id": "47e52aa5-1c83-44b3-8be6-2000e51f9010",
   "metadata": {},
   "source": [
    "This file provides a compilation of different analyses performed on the Grapevine Model. Some code might not work straight away. Direct any questions to s.zhydkov@warwick.ac.uk. "
   ]
  },
  {
   "cell_type": "markdown",
   "id": "7c4dd9cb",
   "metadata": {},
   "source": [
    "## Setup and Functions"
   ]
  },
  {
   "cell_type": "code",
   "execution_count": null,
   "id": "4160bb42",
   "metadata": {},
   "outputs": [],
   "source": [
    "using Pkg\n",
    "Pkg.activate(\".\")\n",
    "Pkg.instantiate()\n",
    "\n",
    "using DataFrames, Statistics, LaTeXStrings, GraphIO, GraphPlot, Graphs, PyPlot, SNAPDatasets, StatsBase, JLD2\n",
    "\n",
    "using PyPlot: grid as grd\n",
    "color_list = [\"#7fc97f\",\"#beaed4\",\"#fdc086\",\"#ffff99\",\"#386cb0\"]\n",
    "rc(\"font\", size=14)\n",
    "rc(\"mathtext\", fontset=\"cm\")\n",
    "rc(\"legend\", title_fontsize=12)\n",
    "\n",
    "using Revise\n",
    "\n",
    "includet(\"GrapevineModel.jl\")\n",
    "using .GrapevineModel"
   ]
  },
  {
   "cell_type": "markdown",
   "id": "8e92cfef",
   "metadata": {},
   "source": [
    "### Load and clean data"
   ]
  },
  {
   "cell_type": "code",
   "execution_count": null,
   "id": "3ca8e197",
   "metadata": {},
   "outputs": [],
   "source": [
    "file = \"mega_data\"\n",
    "all_data = load_object(\"data/\"*file*\".jld2\")"
   ]
  },
  {
   "cell_type": "code",
   "execution_count": null,
   "id": "c64a7b22",
   "metadata": {},
   "outputs": [],
   "source": [
    "all_data |> keys |> first"
   ]
  },
  {
   "cell_type": "code",
   "execution_count": null,
   "id": "4947fa09",
   "metadata": {},
   "outputs": [],
   "source": [
    "col_names = [:mu10, :mu01, :p, :theta, :sources, :greedy_set, :greedy, :opt_set, :opt]\n",
    "col_types = [fill(Float64, 4); Vector{Int64}; Set{Int}; Float64; Set{Int}; Float64]\n",
    "log_df = DataFrame(col_names .=> [type[] for type in col_types])"
   ]
  },
  {
   "cell_type": "markdown",
   "id": "9e6a5ffc",
   "metadata": {},
   "source": [
    "## DIfference between greedy and optimal"
   ]
  },
  {
   "cell_type": "code",
   "execution_count": null,
   "id": "4f2cb5a7",
   "metadata": {},
   "outputs": [],
   "source": [
    "# log_df = DataFrame(params = NTuple{5, Any}[], greedy_set = Set{}[], greedy = Float64[], \n",
    "#     optimal_set = Set{}[], optimal = Float64[])\n",
    "\n",
    "for x in keys(all_data)\n",
    "#     println(\"Key: \", x)\n",
    "    data = all_data[x]\n",
    "    new_data = Dict()\n",
    "    for key in keys(data)\n",
    "        new_data[Set(key)] = data[key]\n",
    "    end\n",
    "    \n",
    "    log = []\n",
    "    \n",
    "    if !check_greedy(new_data, 0.01, log)\n",
    "        printstyled(\"Key: $x\\n\", color=:red)\n",
    "        for l in log\n",
    "            push!(log_df, [x..., l...])\n",
    "        end\n",
    "    end\n",
    "    \n",
    "#     println()\n",
    "end"
   ]
  },
  {
   "cell_type": "code",
   "execution_count": null,
   "id": "3c3bceab",
   "metadata": {},
   "outputs": [],
   "source": [
    "log_df.diff = (log_df.opt .- log_df.greedy) ./ log_df.greedy"
   ]
  },
  {
   "cell_type": "code",
   "execution_count": null,
   "id": "7099f7ac",
   "metadata": {},
   "outputs": [],
   "source": [
    "using CSV\n",
    "CSV.write(\"data/greedy_opt_diff_v2.csv\", log_df)"
   ]
  },
  {
   "cell_type": "markdown",
   "id": "4f4d680e",
   "metadata": {},
   "source": [
    "## Testing additivity of influence"
   ]
  },
  {
   "cell_type": "code",
   "execution_count": null,
   "id": "796bc7c1",
   "metadata": {},
   "outputs": [],
   "source": [
    "for k in keys(all_data)\n",
    "    println(k)\n",
    "end"
   ]
  },
  {
   "cell_type": "code",
   "execution_count": null,
   "id": "dbe1d876",
   "metadata": {},
   "outputs": [],
   "source": [
    "key = (0.03970682084881814, 0.09844508319909746, 0.976945252809658, 0.7800567754188759)\n",
    "data0 = all_data[key] #choose one experiment\n",
    "\n",
    "data = Dict()\n",
    "for key in keys(data0)\n",
    "    data[Set(key)] = data0[key]\n",
    "end\n",
    "data[Set{Int64}([])] = 0"
   ]
  },
  {
   "cell_type": "code",
   "execution_count": null,
   "id": "3f5a5d4b",
   "metadata": {},
   "outputs": [],
   "source": [
    "key"
   ]
  },
  {
   "cell_type": "code",
   "execution_count": null,
   "id": "00126911",
   "metadata": {},
   "outputs": [],
   "source": [
    "all_sets = sort(collect(keys(data)), by = x -> length(x))\n",
    "sources = all_sets[end]\n",
    "m = length(sources)"
   ]
  },
  {
   "cell_type": "code",
   "execution_count": null,
   "id": "793357d5",
   "metadata": {},
   "outputs": [],
   "source": [
    "marginals = Dict()\n",
    "for s in sources\n",
    "    s_marg = Dict()\n",
    "    for i in 1:m\n",
    "        sets_with_s = [set for set in all_sets if length(set) == i && (s in set)]\n",
    "        s_marg[i] = [(data[set] - data[setdiff(set, [s])]) for set in sets_with_s]\n",
    "    end\n",
    "    marginals[s] = s_marg\n",
    "end"
   ]
  },
  {
   "cell_type": "code",
   "execution_count": null,
   "id": "860ceaa5",
   "metadata": {},
   "outputs": [],
   "source": [
    "t = 1:m\n",
    "s = rand(sources)\n",
    "for i in t\n",
    "    values = marginals[s][i]\n",
    "    scatter(i*ones(Int, length(values)), values)\n",
    "end"
   ]
  },
  {
   "cell_type": "code",
   "execution_count": null,
   "id": "5ae59fbd",
   "metadata": {
    "scrolled": true
   },
   "outputs": [],
   "source": [
    "for (A, B) in Iterators.product(all_sets, all_sets)\n",
    "#     println(A, B, \"\\r\")\n",
    "    if data[A] + data[B] > 1.1*(data[union(A, B)] + data[intersect(A, B)])\n",
    "        println(\"$A and $B violate supermodularity by\n",
    "            $(data[A] + data[B] - (data[union(A, B)] + data[intersect(A, B)]))\")\n",
    "    end\n",
    "end"
   ]
  },
  {
   "cell_type": "code",
   "execution_count": null,
   "id": "51d86ce2",
   "metadata": {},
   "outputs": [],
   "source": [
    "A = Set([789, 302, 882, 780, 2243])\n",
    "B = Set([882, 541, 2243, 3416])\n",
    "println(data[A])\n",
    "println(data[B])\n",
    "println(data[union(A, B)])\n",
    "println(data[intersect(A, B)])"
   ]
  },
  {
   "cell_type": "code",
   "execution_count": null,
   "id": "f7aa753a",
   "metadata": {},
   "outputs": [],
   "source": [
    "modularity_data = ones(m+1, m+1)\n",
    "count_data = zeros(m+1, m+1)\n",
    "for (A, B) in Iterators.product(all_sets, all_sets)\n",
    "    if isempty(intersect(A, B)) #disjoint sets\n",
    "        \n",
    "        a = data[union(A, B)] - (data[A] + data[B]) # excess gain (or loss) when putting 2 sets together\n",
    "        if a < modularity_data[length(A)+1, length(B)+1]\n",
    "            modularity_data[length(A)+1, length(B)+1] = copy(a)\n",
    "        end\n",
    "#         count_data[length(A)+1, length(B)+1] += 1\n",
    "    end\n",
    "end\n",
    "# modularity_data = modularity_data ./ count_data\n",
    "map!(x -> x == 1 ? 0 : x, modularity_data, modularity_data)"
   ]
  },
  {
   "cell_type": "code",
   "execution_count": null,
   "id": "91c68f70",
   "metadata": {},
   "outputs": [],
   "source": []
  },
  {
   "cell_type": "code",
   "execution_count": null,
   "id": "84bfca4a",
   "metadata": {},
   "outputs": [],
   "source": [
    "imshow(modularity_data)\n",
    "colorbar()"
   ]
  },
  {
   "cell_type": "code",
   "execution_count": null,
   "id": "cbbfe834",
   "metadata": {},
   "outputs": [],
   "source": [
    "findmin(modularity_data)"
   ]
  },
  {
   "cell_type": "markdown",
   "id": "62c8a14d",
   "metadata": {},
   "source": [
    "### Estimating the curvature"
   ]
  },
  {
   "cell_type": "markdown",
   "id": "5dd3456f",
   "metadata": {},
   "source": [
    "The total curvature of a set function $f$ is defined as $c = 1 - \\min_{X, j \\notin S} \\frac{f(X) - f(X-j)}{f(\\{j\\})}$. Essentially, this measures how small the marginal contribution of any element to any set can get. If $f$ is increasing and submodular, $c \\in [0, 1]$, where $c=0$ means that $f$ is additive."
   ]
  },
  {
   "cell_type": "code",
   "execution_count": null,
   "id": "8d544beb",
   "metadata": {},
   "outputs": [],
   "source": [
    "min_max = [1.0, 0.0]\n",
    "for s in sources\n",
    "    single_marg = marginals[s][1][1]\n",
    "    all_marg = vcat([marginals[s][i] for i in 2:m]...)\n",
    "    if minimum(all_marg)/single_marg < min_max[1]\n",
    "        min_max[1] = minimum(all_marg)/single_marg\n",
    "    end\n",
    "    if maximum(all_marg)/single_marg > min_max[2]\n",
    "        min_max[2] = maximum(all_marg)/single_marg\n",
    "    end\n",
    "end"
   ]
  },
  {
   "cell_type": "code",
   "execution_count": null,
   "id": "c2e524a6",
   "metadata": {},
   "outputs": [],
   "source": [
    "min_max"
   ]
  },
  {
   "cell_type": "markdown",
   "id": "82881bd3",
   "metadata": {},
   "source": [
    "### Generalised Curvature and Submodularity Ratio"
   ]
  },
  {
   "cell_type": "markdown",
   "id": "ccd9ea63",
   "metadata": {},
   "source": [
    "Estimating the parameters from the Bian et al. paper."
   ]
  },
  {
   "cell_type": "code",
   "execution_count": null,
   "id": "caefbd58",
   "metadata": {},
   "outputs": [],
   "source": [
    "all_data |> first |> last"
   ]
  },
  {
   "cell_type": "code",
   "execution_count": null,
   "id": "66ec6541",
   "metadata": {},
   "outputs": [],
   "source": [
    "function gen_curvature(data)\n",
    "    new_data = Dict()\n",
    "    for key in keys(data)\n",
    "        new_data[Set(key)] = data[key]\n",
    "    end\n",
    "    new_data[Set{Int64}([])] = 0\n",
    "    \n",
    "    all_sets = sort(collect(keys(new_data)), by = x -> length(x))\n",
    "    \n",
    "    cmin = 1.0\n",
    "    cmax = 0.0\n",
    "    \n",
    "    for (S, O) in Iterators.product(all_sets, all_sets)\n",
    "        for i in setdiff(S, O)\n",
    "            ratio = 1-(new_data[union(S, O)] - new_data[union(setdiff(S, Set([i])), O)])/(new_data[S] - new_data[setdiff(S, Set([i]))])\n",
    "            if ratio < cmin\n",
    "                cmin = ratio\n",
    "            elseif ratio > cmax\n",
    "                cmax = ratio\n",
    "            end\n",
    "        end\n",
    "    end\n",
    "    return cmin, cmax\n",
    "end"
   ]
  },
  {
   "cell_type": "code",
   "execution_count": null,
   "id": "d1b8533d",
   "metadata": {},
   "outputs": [],
   "source": [
    " gen_curvature(collect(values(all_data))[100])"
   ]
  },
  {
   "cell_type": "code",
   "execution_count": null,
   "id": "aa8fe112",
   "metadata": {},
   "outputs": [],
   "source": [
    "function submod_ratio(data)\n",
    "    new_data = Dict()\n",
    "    for key in keys(data)\n",
    "        new_data[Set(key)] = data[key]\n",
    "    end\n",
    "    new_data[Set{Int64}([])] = 0\n",
    "    \n",
    "    all_sets = sort(collect(keys(new_data)), by = x -> length(x))\n",
    "    \n",
    "    cmin = 1.0\n",
    "    cmax = 0.0\n",
    "    \n",
    "    for (S, O) in Iterators.product(all_sets, all_sets)\n",
    "        if isempty(setdiff(O, S))\n",
    "            continue\n",
    "        end\n",
    "        omega_marg = new_data[union(S, O)] - new_data[S]\n",
    "        indiv_marg = sum([(new_data[union(S, Set([i]))] - new_data[S]) for i in setdiff(O, S)])\n",
    "\n",
    "        ratio = indiv_marg/omega_marg\n",
    "        if ratio < cmin\n",
    "            cmin = ratio\n",
    "        elseif ratio > cmax\n",
    "            cmax = ratio\n",
    "        end\n",
    "    end\n",
    "    return cmin, cmax\n",
    "end"
   ]
  },
  {
   "cell_type": "code",
   "execution_count": null,
   "id": "6b7b9db2",
   "metadata": {},
   "outputs": [],
   "source": [
    "submod_ratio(collect(values(all_data))[100])"
   ]
  },
  {
   "cell_type": "code",
   "execution_count": null,
   "id": "4da95486",
   "metadata": {},
   "outputs": [],
   "source": [
    "curvatures = []\n",
    "submods = []\n",
    "\n",
    "for i in 1:length(all_data)\n",
    "    data = collect(values(all_data))[i]\n",
    "    sources = sort(collect(keys(data)), by = length)[end]\n",
    "    if data[sources] < 0.05\n",
    "        continue\n",
    "    end\n",
    "\n",
    "    push!(curvatures, gen_curvature(data)[2])\n",
    "    push!(submods, submod_ratio(data)[1])\n",
    "end"
   ]
  },
  {
   "cell_type": "code",
   "execution_count": null,
   "id": "daf3c1a2",
   "metadata": {},
   "outputs": [],
   "source": [
    "plot(sort(submods))"
   ]
  },
  {
   "cell_type": "code",
   "execution_count": null,
   "id": "78618909",
   "metadata": {},
   "outputs": [],
   "source": [
    "plot(sort(1 .- exp.(-curvatures)))"
   ]
  },
  {
   "cell_type": "code",
   "execution_count": null,
   "id": "5880dcf9",
   "metadata": {},
   "outputs": [],
   "source": [
    "approx = @. (1/curvatures) * (1 - exp(-curvatures * submods))"
   ]
  },
  {
   "cell_type": "code",
   "execution_count": null,
   "id": "b21b984f",
   "metadata": {},
   "outputs": [],
   "source": [
    "plot(sort(approx))"
   ]
  },
  {
   "cell_type": "code",
   "execution_count": null,
   "id": "876ace80",
   "metadata": {},
   "outputs": [],
   "source": [
    "findall(submods .< 0)"
   ]
  },
  {
   "cell_type": "code",
   "execution_count": null,
   "id": "4d5d6097",
   "metadata": {},
   "outputs": [],
   "source": [
    "data = all_data[collect(keys(all_data))[141]]\n",
    "\n",
    "new_data = Dict()\n",
    "for key in keys(data)\n",
    "    new_data[Set(key)] = data[key]\n",
    "end\n",
    "\n",
    "all_sets = sort(collect(keys(new_data)), by = length)\n",
    "for set in all_sets\n",
    "    println(set, \": \", new_data[set])\n",
    "end"
   ]
  },
  {
   "cell_type": "code",
   "execution_count": null,
   "id": "5585ccce",
   "metadata": {},
   "outputs": [],
   "source": [
    "sort(curvatures, rev=true)"
   ]
  },
  {
   "cell_type": "markdown",
   "id": "3c0a030d",
   "metadata": {},
   "source": [
    "## Posterior as a function of the message"
   ]
  },
  {
   "cell_type": "code",
   "execution_count": null,
   "id": "a00f3fa7",
   "metadata": {},
   "outputs": [],
   "source": [
    "g = loadsnap(:facebook_combined) # our favourite network\n",
    "\n",
    "# fix the params\n",
    "n = nv(g)\n",
    "\n",
    "theta = 0.7# prior probability the true state is 1\n",
    "p = 1 # dropout rate\n",
    "mu10 = 0.1 # mutation from 1 to 0\n",
    "mu01 = 0.15; # mutation from 0 to 1"
   ]
  },
  {
   "cell_type": "code",
   "execution_count": null,
   "id": "9bdebb60",
   "metadata": {},
   "outputs": [],
   "source": [
    "figure(figsize=(8,6))\n",
    "\n",
    "m = 20\n",
    "for d in 2:2:10\n",
    "    levels = d*ones(Int, m)\n",
    "    messages = [[ones(Int, i); zeros(Int, m-i)] for i in 0:m]\n",
    "    values = GrapevineModel.posterior.(theta, messages, Ref(levels), mu10, mu01)\n",
    "    plot(0:m, values, label=\"depth = $d\")\n",
    "end\n",
    "\n",
    "axhline(theta, ls=\"--\", c=\"0.5\", label=\"prior\")\n",
    "\n",
    "xticks(0:m)\n",
    "grd(ls=\":\")\n",
    "legend()\n",
    "xlabel(\"Number of 1's received\")\n",
    "ylabel(\"Learned posterior\")\n",
    "\n",
    "savefig(\"figs/posterior_comp$m.pdf\")"
   ]
  },
  {
   "cell_type": "markdown",
   "id": "6dae6530",
   "metadata": {},
   "source": [
    "### Learned posterior vs number of corrupted sources"
   ]
  },
  {
   "cell_type": "code",
   "execution_count": null,
   "id": "0ecf1e69",
   "metadata": {},
   "outputs": [],
   "source": [
    "# g = loadsnap(:facebook_combined) # our favourite network\n",
    "\n",
    "# fix the params\n",
    "n = nv(g)\n",
    "\n",
    "theta = 0.7# prior probability the true state is 1\n",
    "p = 0.9 # dropout rate\n",
    "mu10 = 0.1 # mutation from 1 to 0\n",
    "mu01 = 0.15; # mutation from 0 to 1"
   ]
  },
  {
   "cell_type": "code",
   "execution_count": null,
   "id": "77f68d4d",
   "metadata": {},
   "outputs": [],
   "source": [
    "g = path_graph(1)"
   ]
  },
  {
   "cell_type": "code",
   "execution_count": null,
   "id": "141a431f",
   "metadata": {},
   "outputs": [],
   "source": [
    "m = 20\n",
    "sources = collect(1:m)\n",
    "original_msg = Dict(sources .=> ones(Int, length(sources)))\n",
    "instance = Grapevine(g, sources, original_msg, mu10, mu01, p, theta)\n",
    "levels = [[ones(Int, m÷2)*3; ones(Int, m÷2)*5]]"
   ]
  },
  {
   "cell_type": "code",
   "execution_count": null,
   "id": "d8bcc207",
   "metadata": {},
   "outputs": [],
   "source": [
    "data = zeros(m÷2+1, m÷2+1)\n",
    "for i in 0:m÷2, j in 0:m÷2\n",
    "    original_msg = Dict(sources .=> [zeros(Int, i); ones(Int, m÷2-i); zeros(Int, j); ones(Int, m÷2-j)])\n",
    "    instance = Grapevine(g, sources, original_msg, mu10, mu01, p, theta)\n",
    "    data[i+1, j+1] = mean([x[1] for x in values(run_experiment(instance, 2000, levels_all=levels))])\n",
    "end"
   ]
  },
  {
   "cell_type": "code",
   "execution_count": null,
   "id": "89c43802",
   "metadata": {},
   "outputs": [],
   "source": [
    "imshow(data)\n",
    "colorbar()\n",
    "ylabel(\"#corrupted sources at dist 3\")\n",
    "xlabel(\"#corrupted sources at dist 5\")\n",
    "\n",
    "savefig(\"figs/posterior_corr_heatmap.pdf\")"
   ]
  },
  {
   "cell_type": "markdown",
   "id": "5a2e2ea3",
   "metadata": {},
   "source": [
    "### Learned posterior vs the number of corrupted sources in a realistic setting"
   ]
  },
  {
   "cell_type": "code",
   "execution_count": null,
   "id": "29c71e98",
   "metadata": {},
   "outputs": [],
   "source": [
    "g = loadsnap(:facebook_combined) # our favourite network\n",
    "\n",
    "# fix the params\n",
    "n = nv(g)\n",
    "\n",
    "theta = 0.7# prior probability the true state is 1\n",
    "p = 0.9 # dropout rate\n",
    "mu10 = 0.1 # mutation from 1 to 0\n",
    "mu01 = 0.15; # mutation from 0 to 1\n",
    "\n",
    "m = 20\n",
    "sources = sample(vertices(g), m; replace=false)\n",
    "original_msg = Dict(sources .=> ones(Int, length(sources)))\n",
    "instance = Grapevine(g, sources, original_msg, mu10, mu01, p, theta)"
   ]
  },
  {
   "cell_type": "code",
   "execution_count": null,
   "id": "5025ace3",
   "metadata": {},
   "outputs": [],
   "source": [
    "V_sample = sort(vertices(g), by = v -> mean(gdistances(g, v)[sources]))[100:500:end] #good spread of distances\n",
    "# V_sample = sample(vertices(g), 10; replace=false) #random sample"
   ]
  },
  {
   "cell_type": "code",
   "execution_count": null,
   "id": "a2904d4f",
   "metadata": {},
   "outputs": [],
   "source": [
    "for v in V_sample\n",
    "    println(mean(gdistances(g,v)))\n",
    "end"
   ]
  },
  {
   "cell_type": "code",
   "execution_count": null,
   "id": "0bfdfea6",
   "metadata": {},
   "outputs": [],
   "source": [
    "data = Dict()\n",
    "\n",
    "for i in 1:m-1\n",
    "    avg = zeros(length(V_sample))\n",
    "    for j in 1:5\n",
    "        S_corr = sample(sources, i; replace=false)\n",
    "        original_msg = Dict(sources .=> [s in S_corr ? 0 : 1 for s in sources])\n",
    "        instance = Grapevine(g, sources, original_msg, mu10, mu01, p, theta)\n",
    "        dataс = run_experiment(instance, 100)\n",
    "        avg += eachrow(hcat(values(dataс)...)'[:, V_sample]) |> mean\n",
    "    end\n",
    "    data[i] = avg/5\n",
    "end"
   ]
  },
  {
   "cell_type": "code",
   "execution_count": null,
   "id": "490dd75b",
   "metadata": {},
   "outputs": [],
   "source": [
    "plot_data = Dict()\n",
    "for i in 1:length(V_sample)\n",
    "    plot_data[V_sample[i]] = [data[j][i] for j in 1:m-1]\n",
    "end\n",
    "# delete!(plot_data, 701)"
   ]
  },
  {
   "cell_type": "code",
   "execution_count": null,
   "id": "952a2694",
   "metadata": {},
   "outputs": [],
   "source": [
    "for v in sort(keys(plot_data) |> collect, by = v -> mean(gdistances(g, v)[sources]))\n",
    "    plot(1:m-1, plot_data[v], label=\"$(mean(gdistances(g, v)[sources]))\", alpha=0.5, lw=1.5)\n",
    "end\n",
    "grd(ls=\":\")\n",
    "xticks(1:2:19)\n",
    "legend(title=\"avg dist \\nto sources\", bbox_to_anchor=(1, 1))\n",
    "xlabel(\"Number of Corrupted Sources\")\n",
    "ylabel(\"Learned Posterior\")\n",
    "\n",
    "savefig(\"figs/posterior_vs_corrupted.pdf\", bbox_inches=\"tight\")"
   ]
  },
  {
   "cell_type": "markdown",
   "id": "ed920929",
   "metadata": {},
   "source": [
    "## Checking greedy on small graphs"
   ]
  },
  {
   "cell_type": "code",
   "execution_count": null,
   "id": "ba104084",
   "metadata": {},
   "outputs": [],
   "source": [
    "file = \"small_graph_analytic\"\n",
    "all_data = load_object(\"data/\"*file*\".jld2\")"
   ]
  },
  {
   "cell_type": "code",
   "execution_count": null,
   "id": "12aac3eb",
   "metadata": {},
   "outputs": [],
   "source": [
    "for graph in keys(graphs)\n",
    "    println(graph, \": \", length([key for key in keys(all_data) if key[1] == graph]))\n",
    "end"
   ]
  },
  {
   "cell_type": "code",
   "execution_count": null,
   "id": "079b1207",
   "metadata": {},
   "outputs": [],
   "source": [
    "log_df = DataFrame(graph = String[], params = NTuple{5, Any}[], greedy_set = Set{}[], greedy = Float64[], \n",
    "    optimal_set = Set{}[], optimal = Float64[])\n",
    "\n",
    "sus_keys = []\n",
    "for x in keys(all_data)\n",
    "#     println(\"Key: \", x)\n",
    "    data = all_data[x]\n",
    "#     if typeof(x[1]) != Float64\n",
    "#         x = x[2:end]\n",
    "#     end\n",
    "    new_data = Dict()\n",
    "    for key in keys(data)\n",
    "        new_data[Set(key)] = data[key]\n",
    "    end\n",
    "    \n",
    "    log = []\n",
    "    \n",
    "    if !check_greedy(new_data, 0.00, log)\n",
    "        printstyled(\"Key: $x\\n\", color=:red)\n",
    "        for l in log\n",
    "            push!(log_df, [x[1], x[2:end], l...])\n",
    "        end\n",
    "        push!(sus_keys, x)\n",
    "    end\n",
    "    \n",
    "#     println()\n",
    "end"
   ]
  },
  {
   "cell_type": "code",
   "execution_count": null,
   "id": "5b006d57",
   "metadata": {},
   "outputs": [],
   "source": [
    "using DataStructures\n",
    "counter([key[1] for key in sus_keys])"
   ]
  },
  {
   "cell_type": "code",
   "execution_count": null,
   "id": "84b10a06",
   "metadata": {},
   "outputs": [],
   "source": [
    "using GraphIO\n",
    "graphs = loadgraphs(\"graphs/graph5c.g6\", Graph6Format())\n",
    "g = graphs[\"graph15\"]"
   ]
  },
  {
   "cell_type": "code",
   "execution_count": null,
   "id": "7a450da6",
   "metadata": {},
   "outputs": [],
   "source": [
    "using GraphPlot, Colors, Compose, Cairo\n",
    "gplot(g)\n",
    "# gplot(g, nodefillc = [\"gray\", \"blue\", \"green\", \"red\", \"gray\"], nodelabel = vertices(g))\n",
    "# Compose.draw(PNG(\"figs/greedy_ce.png\", 16cm, 16cm), gplot(g, nodefillc = [\"gray\", \"red\", \"green\", \"gray\", \"blue\"]))"
   ]
  },
  {
   "cell_type": "code",
   "execution_count": null,
   "id": "868b09eb",
   "metadata": {},
   "outputs": [],
   "source": [
    "i = 11\n",
    "key = sus_keys[i]\n",
    "# key = (\"graph5\", 0.02542531593846606, 0.002130935243685572, 0.9811953948099317, 0.9132144838651844, [1, 3, 4])\n",
    "println(key)\n",
    "g_name = key[1]\n",
    "params = key[2:5]\n",
    "sources = key[end]\n",
    "\n",
    "data = all_data[key]\n",
    "new_data = Dict()\n",
    "for key in keys(data)\n",
    "    new_data[Set(key)] = data[key]\n",
    "end"
   ]
  },
  {
   "cell_type": "code",
   "execution_count": null,
   "id": "caf8f03e",
   "metadata": {},
   "outputs": [],
   "source": [
    "all_data = run_influence_experiment(g=g, params=params, sources=sources, method=:analytic, \n",
    "    graph_name=g_name, data_path=\"data/greedy_ce.jld2\")"
   ]
  },
  {
   "cell_type": "code",
   "execution_count": null,
   "id": "3277b689",
   "metadata": {},
   "outputs": [],
   "source": [
    "data = first(values(all_data))\n",
    "\n",
    "new_data = Dict()\n",
    "for key in keys(data)\n",
    "    new_data[Set(key)] = data[key]\n",
    "end"
   ]
  },
  {
   "cell_type": "code",
   "execution_count": null,
   "id": "a9bbaa6d",
   "metadata": {},
   "outputs": [],
   "source": [
    "all_sets = sort(collect(keys(new_data)), by = length)\n",
    "for set in all_sets\n",
    "    println(set, \": \", new_data[set])\n",
    "end"
   ]
  },
  {
   "cell_type": "code",
   "execution_count": null,
   "id": "1e18ca1b",
   "metadata": {},
   "outputs": [],
   "source": [
    "check_greedy(new_data, 0.02)"
   ]
  },
  {
   "cell_type": "code",
   "execution_count": null,
   "id": "4a1c2b37",
   "metadata": {},
   "outputs": [],
   "source": [
    "g = graphs[g_name]\n",
    "gp = gplot(g, nodefillc = [\"gray\", \"blue\", \"green\", \"red\", \"gray\"], nodelabel = vertices(g))\n",
    "# Compose.draw(PNG(\"figs/greedy_ce.png\", 16cm, 16cm), gp)"
   ]
  },
  {
   "cell_type": "code",
   "execution_count": null,
   "id": "27472bcd",
   "metadata": {},
   "outputs": [],
   "source": [
    "Grapevine(g, sources, Dict(sources .=> ones(length(sources))), params...)"
   ]
  },
  {
   "cell_type": "markdown",
   "id": "04c7db0d",
   "metadata": {},
   "source": [
    "## Greedy with Centrality Heuristics"
   ]
  },
  {
   "cell_type": "code",
   "execution_count": null,
   "id": "5289728c",
   "metadata": {},
   "outputs": [],
   "source": [
    "g = loadsnap(:facebook_combined)"
   ]
  },
  {
   "cell_type": "code",
   "execution_count": null,
   "id": "bf8ac3ce",
   "metadata": {},
   "outputs": [],
   "source": [
    "g = loadgraph(\"graphs/ER_graph.lg\")"
   ]
  },
  {
   "cell_type": "code",
   "execution_count": null,
   "id": "f82b7f03",
   "metadata": {},
   "outputs": [],
   "source": [
    "harmonic_centrality(g) = [sum(1 ./ gdistances(g,i)[gdistances(g, i) .> 0]) for i in vertices(g)]"
   ]
  },
  {
   "cell_type": "code",
   "execution_count": null,
   "id": "5f1a6a85",
   "metadata": {},
   "outputs": [],
   "source": [
    "centralities = [closeness_centrality(g), pagerank(g), degree_centrality(g), harmonic_centrality(g), eigenvector_centrality(g)]"
   ]
  },
  {
   "cell_type": "code",
   "execution_count": null,
   "id": "be157c30",
   "metadata": {},
   "outputs": [],
   "source": [
    "col_names = [:mu10, :mu01, :p, :theta, :sources, :greedy_set, :greedy, :opt_set, :opt]\n",
    "col_types = [fill(Float64, 4); Vector{Int64}; Set{Int}; Float64; Set{Int}; Float64]\n",
    "log_df2 = DataFrame(col_names .=> [type[] for type in col_types])"
   ]
  },
  {
   "cell_type": "code",
   "execution_count": null,
   "id": "2ea4837e",
   "metadata": {},
   "outputs": [],
   "source": [
    "# log_df = DataFrame(params = NTuple{5, Any}[], greedy_set = Set{}[], greedy = Float64[], \n",
    "#     optimal_set = Set{}[], optimal = Float64[])\n",
    "\n",
    "sus_keys = []\n",
    "for x in keys(all_data)\n",
    "#     println(\"Key: \", x)\n",
    "    data = all_data[x]\n",
    "#     if typeof(x[1]) != Float64\n",
    "#         x = x[2:end]\n",
    "#     end\n",
    "    new_data = Dict()\n",
    "    for key in keys(data)\n",
    "        new_data[Set(key)] = data[key]\n",
    "    end\n",
    "    \n",
    "    log = []\n",
    "    \n",
    "    if !check_greedy(new_data, 0.02, log, centralities)\n",
    "        printstyled(\"Key: $x\\n\", color=:red)\n",
    "        for l in log\n",
    "#             println([x..., l...])\n",
    "            push!(log_df2, [x..., l...])\n",
    "        end\n",
    "        push!(sus_keys, x)\n",
    "    end\n",
    "    \n",
    "#     println()\n",
    "end"
   ]
  },
  {
   "cell_type": "code",
   "execution_count": null,
   "id": "32a44768",
   "metadata": {
    "scrolled": true
   },
   "outputs": [],
   "source": [
    "log_df = process_data(all_data, centralities...)"
   ]
  },
  {
   "cell_type": "code",
   "execution_count": null,
   "id": "b5b49e69",
   "metadata": {
    "scrolled": true
   },
   "outputs": [],
   "source": [
    "filtered_df = log_df[(length.(log_df.sources)/2 .- 1) .< log_df.k .< (length.(log_df.sources)/2 .+ 1), :]"
   ]
  },
  {
   "cell_type": "code",
   "execution_count": null,
   "id": "32756ce2",
   "metadata": {},
   "outputs": [],
   "source": [
    "algs_scores = [:avg, :greedy_score, :closeness_score, :pagerank_score, :degree_score, :harmonic_score]\n",
    "plot_data = Dict()\n",
    "for a in algs_scores\n",
    "#     println(a)\n",
    "    plot_data[a] = (filtered_df[!, a]-filtered_df.worst)./(filtered_df.opt-filtered_df.worst)\n",
    "end"
   ]
  },
  {
   "cell_type": "code",
   "execution_count": null,
   "id": "adc6e192",
   "metadata": {},
   "outputs": [],
   "source": [
    "using CSV\n",
    "CSV.write(\"data/data_summary.csv\", log_df)"
   ]
  },
  {
   "cell_type": "code",
   "execution_count": null,
   "id": "2e46bd2a",
   "metadata": {},
   "outputs": [],
   "source": [
    "algs_scores = [:avg, :greedy_score, :closeness_score, :pagerank_score, :degree_score, :harmonic_score]\n",
    "plot_data = Dict()\n",
    "for a in algs_scores\n",
    "#     println(a)\n",
    "    plot_data[a] = (log_df[!, a]-log_df.worst)./(log_df.opt-log_df.worst)\n",
    "end"
   ]
  },
  {
   "cell_type": "code",
   "execution_count": null,
   "id": "cd8cb3b5",
   "metadata": {},
   "outputs": [],
   "source": [
    "for a in algs_scores\n",
    "    plot(sort(plot_data[a], rev=true), label=a)\n",
    "end\n",
    "legend()\n",
    "PyPlot.grid(ls=\":\")\n",
    "ylabel(\"Performance (normalised)\")\n",
    "xlabel(\"Number of instances, %\")\n",
    "yticks(0:0.1:1, [\"Worst\", collect(0.1:0.1:0.9)..., \"Optimal\"])\n",
    "xticks(0:length(plot_data[:avg])/10:length(plot_data[:avg]), 0:10:100)\n",
    "xlim([0, length(first(values(plot_data)))])\n",
    "savefig(\"figs/facebook_exp.pdf\", bbox_inches=\"tight\")\n",
    "savefig(\"figs/facebook_exp.png\", bbox_inches=\"tight\")\n"
   ]
  },
  {
   "cell_type": "code",
   "execution_count": null,
   "id": "13a822f6",
   "metadata": {},
   "outputs": [],
   "source": [
    "g"
   ]
  },
  {
   "cell_type": "code",
   "execution_count": null,
   "id": "a6536718",
   "metadata": {},
   "outputs": [],
   "source": [
    "plot_data[:closeness_score] .== plot_data[:radiality_score]"
   ]
  },
  {
   "cell_type": "code",
   "execution_count": null,
   "id": "f1e8eea4",
   "metadata": {},
   "outputs": [],
   "source": [
    "plot_data[:radiality_score]"
   ]
  },
  {
   "cell_type": "markdown",
   "id": "ae942d11",
   "metadata": {},
   "source": [
    "### Influence Exp on E-R"
   ]
  },
  {
   "cell_type": "code",
   "execution_count": null,
   "id": "03f32982",
   "metadata": {},
   "outputs": [],
   "source": [
    "file = \"influence_exp_ER\"\n",
    "all_data = load_object(\"data/\"*file*\".jld2\")"
   ]
  },
  {
   "cell_type": "code",
   "execution_count": null,
   "id": "02098f45",
   "metadata": {},
   "outputs": [],
   "source": [
    "g = loadgraph(\"graphs/ER_graph.lg\")\n",
    "centralities = [closeness_centrality(g), pagerank(g), degree_centrality(g), harmonic_centrality(g), eigenvector_centrality(g)]"
   ]
  },
  {
   "cell_type": "code",
   "execution_count": null,
   "id": "ef887fbb",
   "metadata": {},
   "outputs": [],
   "source": [
    "log_df = process_data(all_data, centralities...)"
   ]
  },
  {
   "cell_type": "code",
   "execution_count": null,
   "id": "02226694",
   "metadata": {},
   "outputs": [],
   "source": [
    "algs_scores = [:avg, :greedy_score, :closeness_score, :pagerank_score, :degree_score, :harmonic_score, :eigenvector_score]\n",
    "plot_data = Dict()\n",
    "for a in algs_scores\n",
    "#     println(a)\n",
    "    plot_data[a] = (log_df[!, a]-log_df.worst)./(log_df.opt-log_df.worst)\n",
    "end"
   ]
  },
  {
   "cell_type": "code",
   "execution_count": null,
   "id": "7b597fae",
   "metadata": {},
   "outputs": [],
   "source": [
    "for a in algs_scores\n",
    "    plot(sort(plot_data[a], rev=true), label=a)\n",
    "end\n",
    "legend()\n",
    "PyPlot.grid(ls=\":\")\n",
    "ylabel(\"Performance (normalised)\")\n",
    "xlabel(\"Number of instances, %\")\n",
    "yticks(0:0.1:1, [\"Worst\", collect(0.1:0.1:0.9)..., \"Optimal\"])\n",
    "xticks(0:length(plot_data[:avg])/10:length(plot_data[:avg]), 0:10:100)\n",
    "xlim([0, length(first(values(plot_data)))])\n",
    "savefig(\"figs/ER_inf_exp.pdf\", bbox_inches=\"tight\")\n",
    "savefig(\"figs/ER_inf_exp.png\", bbox_inches=\"tight\")\n"
   ]
  },
  {
   "cell_type": "markdown",
   "id": "54d41d8c",
   "metadata": {},
   "source": [
    "### Influence Exp on W-S "
   ]
  },
  {
   "cell_type": "code",
   "execution_count": null,
   "id": "d3f0bbdb",
   "metadata": {
    "scrolled": true
   },
   "outputs": [],
   "source": [
    "file = \"influence_exp_WS\"\n",
    "all_data = load_object(\"data/\"*file*\".jld2\")"
   ]
  },
  {
   "cell_type": "code",
   "execution_count": null,
   "id": "f13dfe0b",
   "metadata": {},
   "outputs": [],
   "source": [
    "g = loadgraph(\"graphs/WS_graph.lg\")\n",
    "centralities = [closeness_centrality(g), pagerank(g), degree_centrality(g), harmonic_centrality(g), eigenvector_centrality(g)]"
   ]
  },
  {
   "cell_type": "code",
   "execution_count": null,
   "id": "cfa6f18f",
   "metadata": {},
   "outputs": [],
   "source": [
    "log_df = process_data(all_data, centralities...)"
   ]
  },
  {
   "cell_type": "code",
   "execution_count": null,
   "id": "958108a8",
   "metadata": {},
   "outputs": [],
   "source": [
    "algs_scores = [:avg, :greedy_score, :closeness_score, :pagerank_score, :degree_score, :harmonic_score, :eigenvector_score]\n",
    "plot_data = Dict()\n",
    "for a in algs_scores\n",
    "#     println(a)\n",
    "    plot_data[a] = (log_df[!, a]-log_df.worst)./(log_df.opt-log_df.worst)\n",
    "end"
   ]
  },
  {
   "cell_type": "code",
   "execution_count": null,
   "id": "01b3ee86",
   "metadata": {},
   "outputs": [],
   "source": [
    "for a in algs_scores\n",
    "    plot(sort(plot_data[a], rev=true), label=a)\n",
    "end\n",
    "legend()\n",
    "PyPlot.grid(ls=\":\")\n",
    "ylabel(\"Performance (normalised)\")\n",
    "xlabel(\"Number of instances, %\")\n",
    "yticks(0:0.1:1, [\"Worst\", collect(0.1:0.1:0.9)..., \"Optimal\"])\n",
    "xticks(0:length(plot_data[:avg])/10:length(plot_data[:avg]), 0:10:100)\n",
    "xlim([0, length(first(values(plot_data)))])\n",
    "savefig(\"figs/WS_inf_exp.pdf\", bbox_inches=\"tight\")\n",
    "savefig(\"figs/WS_inf_exp.png\", bbox_inches=\"tight\")\n"
   ]
  },
  {
   "cell_type": "markdown",
   "id": "31deee2f",
   "metadata": {},
   "source": [
    "## Watts-Strogatz Experiment"
   ]
  },
  {
   "cell_type": "code",
   "execution_count": null,
   "id": "4dd41daf",
   "metadata": {},
   "outputs": [],
   "source": [
    "file = \"greedy_exp2\"\n",
    "all_data_even = load_object(\"data/\"*file*\".jld2\")\n",
    "file = \"greedy_exp2_odd\"\n",
    "all_data_odd = load_object(\"data/\"*file*\".jld2\")"
   ]
  },
  {
   "cell_type": "code",
   "execution_count": null,
   "id": "300c64d5",
   "metadata": {},
   "outputs": [],
   "source": [
    "all_data = merge(all_data_even, all_data_odd)"
   ]
  },
  {
   "cell_type": "code",
   "execution_count": null,
   "id": "7db81673",
   "metadata": {},
   "outputs": [],
   "source": [
    "t = 3:19\n",
    "algs = [:greedy, :random, :closeness, :pagerank, :degree, :harmonic] \n",
    "data=[]\n",
    "\n",
    "plot_data = Dict(algs .=> [[[] for _ in t] for a in algs])\n",
    "for i in 1:length(t)\n",
    "    k = t[i]\n",
    "    data = [all_data[key] for key in keys(all_data) if key[end] == k]\n",
    "    for d in data\n",
    "        for a in algs\n",
    "            push!(plot_data[a][i], (d[a]-d[:random])/d[:random])\n",
    "        end\n",
    "    end\n",
    "end"
   ]
  },
  {
   "cell_type": "code",
   "execution_count": null,
   "id": "0d6f9832",
   "metadata": {},
   "outputs": [],
   "source": [
    "for a in algs\n",
    "    if a == nothing\n",
    "        errorbar(0:length(t)-1, mean.(plot_data[a]), label=a, yerr=std.(plot_data[a]))\n",
    "    else\n",
    "        errorbar(0:length(t)-1, mean.(plot_data[a]), label=a)\n",
    "    end\n",
    "\n",
    "end\n",
    "legend()\n",
    "xticks(0:length(t)-1, t)\n",
    "xlabel(\"Budget, \"*L\"k\")\n",
    "ylabel(\"Performance over random\")\n",
    "PyPlot.grid(ls=\":\")\n",
    "xlim([0, length(t)-1])\n",
    "savefig(\"figs/WS_exp.png\", bbox_inches=\"tight\")\n",
    "savefig(\"figs/WS_exp.pdf\", bbox_inches=\"tight\")"
   ]
  },
  {
   "cell_type": "code",
   "execution_count": null,
   "id": "d4336688",
   "metadata": {},
   "outputs": [],
   "source": []
  }
 ],
 "metadata": {
  "kernelspec": {
   "display_name": "Julia 1.8.0",
   "language": "julia",
   "name": "julia-1.8"
  },
  "language_info": {
   "file_extension": ".jl",
   "mimetype": "application/julia",
   "name": "julia",
   "version": "1.8.0"
  }
 },
 "nbformat": 4,
 "nbformat_minor": 5
}
