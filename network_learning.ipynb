{
 "cells": [
  {
   "cell_type": "markdown",
   "metadata": {},
   "source": [
    "# Learning Through the Grapevine "
   ]
  },
  {
   "cell_type": "markdown",
   "metadata": {},
   "source": [
    "## Set Up "
   ]
  },
  {
   "cell_type": "markdown",
   "metadata": {},
   "source": [
    "A few setup steps. Might take a few minutes the very first time if you don't have the required packages installed. Will take a few seconds after that."
   ]
  },
  {
   "cell_type": "code",
   "execution_count": 1,
   "metadata": {
    "scrolled": true
   },
   "outputs": [
    {
     "name": "stderr",
     "output_type": "stream",
     "text": [
      "\u001b[32m\u001b[1m  Activating\u001b[22m\u001b[39m project at `D:\\Programming\\GrapevineModel`\n"
     ]
    }
   ],
   "source": [
    "using Pkg\n",
    "Pkg.activate(\".\")\n",
    "Pkg.instantiate()"
   ]
  },
  {
   "cell_type": "code",
   "execution_count": 2,
   "metadata": {},
   "outputs": [
    {
     "data": {
      "text/plain": [
       "1"
      ]
     },
     "execution_count": 2,
     "metadata": {},
     "output_type": "execute_result"
    }
   ],
   "source": [
    "#check if multiple threads are available, it's ok if not\n",
    "Threads.nthreads()"
   ]
  },
  {
   "cell_type": "code",
   "execution_count": 3,
   "metadata": {},
   "outputs": [],
   "source": [
    "#some modules we might need\n",
    "using DataFrames, Statistics, LaTeXStrings, GraphIO, GraphPlot, Graphs, PyPlot, SNAPDatasets, StatsBase\n",
    "using PyPlot: grid as grd # avoid conflict with Graphs.grid\n",
    "using Revise"
   ]
  },
  {
   "cell_type": "code",
   "execution_count": 4,
   "metadata": {},
   "outputs": [],
   "source": [
    "includet(\"GrapevineModel.jl\")\n",
    "using .GrapevineModel"
   ]
  },
  {
   "cell_type": "markdown",
   "metadata": {},
   "source": [
    "## Testing the Influence Function"
   ]
  },
  {
   "cell_type": "code",
   "execution_count": 5,
   "metadata": {},
   "outputs": [
    {
     "data": {
      "text/plain": [
       "(0.95, 0.05, 0.15)"
      ]
     },
     "execution_count": 5,
     "metadata": {},
     "output_type": "execute_result"
    }
   ],
   "source": [
    "s0 = 1\n",
    "n = 400\n",
    "n_sources = 6\n",
    "theta = 0.75\n",
    "d_test = 10\n",
    "p = 0.95\n",
    "mu10 = 0.05\n",
    "mu01 = 0.15\n",
    "params = (p, mu10, mu01)"
   ]
  },
  {
   "cell_type": "code",
   "execution_count": 6,
   "metadata": {},
   "outputs": [
    {
     "data": {
      "text/plain": [
       "{400, 800} undirected simple Int64 graph"
      ]
     },
     "execution_count": 6,
     "metadata": {},
     "output_type": "execute_result"
    }
   ],
   "source": [
    "g = watts_strogatz(n, 4, 0.2)\n",
    "# g = loadsnap(:facebook_combined)"
   ]
  },
  {
   "cell_type": "code",
   "execution_count": 7,
   "metadata": {},
   "outputs": [
    {
     "data": {
      "text/plain": [
       "Grapevine\n",
       "  g: SimpleGraph{Int64}\n",
       "  sources: Array{Int64}((6,)) [371, 118, 240, 24, 268, 22]\n",
       "  source_msg: Dict{Int64, Int64}\n",
       "  mu10: Float64 0.05\n",
       "  mu01: Float64 0.15\n",
       "  p: Float64 0.95\n",
       "  theta: Float64 0.75\n"
      ]
     },
     "execution_count": 7,
     "metadata": {},
     "output_type": "execute_result"
    }
   ],
   "source": [
    "sources = sample(vertices(g), n_sources; replace=false)\n",
    "msgs = Dict(sources .=> Int.(ones(n_sources)))\n",
    "instance = Grapevine(g, sources, msgs, mu10, mu01, p, theta)"
   ]
  },
  {
   "cell_type": "markdown",
   "metadata": {},
   "source": [
    "Without specifying the corrupted set, `influence(instance)` just returns the average learned probability accross the network in the `instance`. "
   ]
  },
  {
   "cell_type": "code",
   "execution_count": 8,
   "metadata": {},
   "outputs": [
    {
     "name": "stdout",
     "output_type": "stream",
     "text": [
      "  0.638909 seconds (4.53 M allocations: 271.825 MiB, 9.60% gc time, 52.76% compilation time)\n"
     ]
    },
    {
     "data": {
      "text/plain": [
       "0.8339017765313812"
      ]
     },
     "execution_count": 8,
     "metadata": {},
     "output_type": "execute_result"
    }
   ],
   "source": [
    "@time influence(instance, method=:empirical, verbose=false)"
   ]
  },
  {
   "cell_type": "markdown",
   "metadata": {},
   "source": [
    "`influence(instance, S_corr)` returns the *drop* in average learned probability after corrupting all the sources in $S_{\\text{corr}}$."
   ]
  },
  {
   "cell_type": "code",
   "execution_count": 9,
   "metadata": {},
   "outputs": [
    {
     "name": "stdout",
     "output_type": "stream",
     "text": [
      "method: analytic\n",
      "Original average learned probability = 0.8342\n",
      "After corrupting [371, 118], the learned probability drops by  0.0884\n",
      "Corrupted average learned probability = 0.7458\n",
      "  6.871094 seconds (76.22 M allocations: 4.760 GiB, 9.60% gc time, 3.15% compilation time)\n"
     ]
    },
    {
     "data": {
      "text/plain": [
       "0.0883976875362481"
      ]
     },
     "execution_count": 9,
     "metadata": {},
     "output_type": "execute_result"
    }
   ],
   "source": [
    "@time influence(instance, sources[[1, 2]])"
   ]
  },
  {
   "cell_type": "markdown",
   "metadata": {},
   "source": [
    "`influence(instance, S_corr; method=:empirical)` is used to estimate the influence by running simulations rather than analytically."
   ]
  },
  {
   "cell_type": "code",
   "execution_count": 10,
   "metadata": {},
   "outputs": [
    {
     "name": "stdout",
     "output_type": "stream",
     "text": [
      "method = empirical\n",
      "Average learned probability = 0.8369\n",
      "  0.293504 seconds (4.02 M allocations: 244.899 MiB, 14.61% gc time)\n"
     ]
    },
    {
     "data": {
      "text/plain": [
       "0.8369291261777831"
      ]
     },
     "execution_count": 10,
     "metadata": {},
     "output_type": "execute_result"
    }
   ],
   "source": [
    "@time influence(instance; method=:empirical)"
   ]
  },
  {
   "cell_type": "code",
   "execution_count": 11,
   "metadata": {
    "scrolled": true
   },
   "outputs": [
    {
     "name": "stdout",
     "output_type": "stream",
     "text": [
      "method: empirical\n",
      "Original average learned probability = 0.8333\n",
      "After corrupting [371, 118], the learned probability drops by  0.0885\n",
      "Corrupted average learned probability = 0.7447\n",
      "  0.283407 seconds (4.02 M allocations: 244.903 MiB, 12.92% gc time)\n"
     ]
    },
    {
     "data": {
      "text/plain": [
       "0.08854326872976159"
      ]
     },
     "execution_count": 11,
     "metadata": {},
     "output_type": "execute_result"
    }
   ],
   "source": [
    "@time influence(instance, sources[[1, 2]]; method=:empirical)"
   ]
  },
  {
   "cell_type": "markdown",
   "metadata": {},
   "source": [
    "Any other function in GrapevineModel.jl can be called like this: `GrapevineModel.posterior(...)`."
   ]
  },
  {
   "cell_type": "markdown",
   "metadata": {},
   "source": [
    "## Testing the Facebook network"
   ]
  },
  {
   "cell_type": "markdown",
   "metadata": {},
   "source": [
    "Load a facebook network from the SNAP collection. If you want to try constructing a random graph, this should provide a lot of common exmaples: https://juliagraphs.org/Graphs.jl/dev/core_functions/simplegraphs_generators/#Generators-for-common-graphs. "
   ]
  },
  {
   "cell_type": "code",
   "execution_count": 12,
   "metadata": {},
   "outputs": [
    {
     "data": {
      "text/plain": [
       "{4039, 88234} undirected simple Int64 graph"
      ]
     },
     "execution_count": 12,
     "metadata": {},
     "output_type": "execute_result"
    }
   ],
   "source": [
    "g = loadsnap(:facebook_combined)\n",
    "\n",
    "# g = watts_strogatz(1000, 6, 0.3) # example of a random graph"
   ]
  },
  {
   "cell_type": "markdown",
   "metadata": {},
   "source": [
    "Set the parameters for the model."
   ]
  },
  {
   "cell_type": "code",
   "execution_count": 13,
   "metadata": {},
   "outputs": [],
   "source": [
    "n = nv(g)\n",
    "\n",
    "n_sources = 5\n",
    "theta = 0.6# prior probability the true state is 1\n",
    "p = 0.8 # dropout rate\n",
    "mu10 = 0.05 # mutation from 1 to 0\n",
    "mu01 = 0.1; # mutation from 0 to 1"
   ]
  },
  {
   "cell_type": "markdown",
   "metadata": {},
   "source": [
    "Randomly choose the sources and their original messages. By default, everyone propagates 1."
   ]
  },
  {
   "cell_type": "code",
   "execution_count": 14,
   "metadata": {},
   "outputs": [
    {
     "data": {
      "text/plain": [
       "Dict{Int64, Int64} with 5 entries:\n",
       "  2838 => 1\n",
       "  2247 => 1\n",
       "  1474 => 1\n",
       "  72   => 1\n",
       "  3824 => 1"
      ]
     },
     "execution_count": 14,
     "metadata": {},
     "output_type": "execute_result"
    }
   ],
   "source": [
    "# r = 0.001 # probability that any given node is a source\n",
    "# sources = [x for x in vertices(g) if rand()<r] # assign sources randomly\n",
    "\n",
    "sources = sample(vertices(g), n_sources; replace=false)\n",
    "original_msg = Dict(sources .=> ones(Int, length(sources)))"
   ]
  },
  {
   "cell_type": "markdown",
   "metadata": {},
   "source": [
    "Collect the parameters into a type (a collection of properties) called Grapevine. Properties we need to provide:\n",
    "\n",
    "Property::Type                   |Description\n",
    ":--------------------------------|:-------------------------------------\n",
    "g::SimpleGraph{Int64}            |underlying graph                     \n",
    "sources::Vector{Int64}           |array of sources                     \n",
    "source_msg::Dict{Int64, Int64}   |original messages by sources         \n",
    "mu10::Float64                    |probability of mutation from 1 to 0\n",
    "mu01::Float64                    |probability of mutation from 0 to 1\n",
    "p::Float64                       |probability of dropping the message\n",
    "theta::Float64                   |prior probability of agents that ω=1"
   ]
  },
  {
   "cell_type": "code",
   "execution_count": 15,
   "metadata": {},
   "outputs": [
    {
     "data": {
      "text/plain": [
       "Grapevine\n",
       "  g: SimpleGraph{Int64}\n",
       "  sources: Array{Int64}((5,)) [2247, 1474, 2838, 72, 3824]\n",
       "  source_msg: Dict{Int64, Int64}\n",
       "  mu10: Float64 0.05\n",
       "  mu01: Float64 0.1\n",
       "  p: Float64 0.8\n",
       "  theta: Float64 0.6\n"
      ]
     },
     "execution_count": 15,
     "metadata": {},
     "output_type": "execute_result"
    }
   ],
   "source": [
    "instance = Grapevine(g, sources, original_msg, mu10, mu01, p, theta)"
   ]
  },
  {
   "cell_type": "markdown",
   "metadata": {},
   "source": [
    "### Running a single simulation and computing the learned probabilities"
   ]
  },
  {
   "cell_type": "markdown",
   "metadata": {},
   "source": [
    "Let's run an experiment on our instance. This outputs average learned probability accross the network for each iteration."
   ]
  },
  {
   "cell_type": "code",
   "execution_count": 16,
   "metadata": {},
   "outputs": [
    {
     "name": "stdout",
     "output_type": "stream",
     "text": [
      "  3.341505 seconds (50.48 M allocations: 2.921 GiB, 12.18% gc time, 1.71% compilation time)\n"
     ]
    }
   ],
   "source": [
    "N = 100 # number of repetitions\n",
    "@time data = run_experiment(instance, N);"
   ]
  },
  {
   "cell_type": "markdown",
   "metadata": {},
   "source": [
    "The data is a dictionary where the key is the number of the experiment and the value is another dictionary which gives the learned probablity for every node."
   ]
  },
  {
   "cell_type": "code",
   "execution_count": 17,
   "metadata": {},
   "outputs": [
    {
     "data": {
      "text/plain": [
       "Dict{Any, Any} with 100 entries:\n",
       "  5  => Dict(2288=>0.951008, 1703=>0.985019, 1956=>0.988294, 2350=>0.309929, 34…\n",
       "  56 => Dict(2288=>0.306571, 1703=>0.991887, 1956=>0.982061, 2350=>0.880356, 34…\n",
       "  35 => Dict(2288=>0.980847, 1703=>0.880356, 1956=>0.982061, 2350=>0.912583, 34…\n",
       "  55 => Dict(2288=>0.951008, 1703=>0.880356, 1956=>0.835551, 2350=>0.951008, 34…\n",
       "  60 => Dict(2288=>0.937863, 1703=>0.991887, 1956=>0.6, 2350=>0.76715, 3406=>0.…\n",
       "  30 => Dict(2288=>0.798272, 1703=>0.985019, 1956=>0.76715, 2350=>0.798272, 340…\n",
       "  32 => Dict(2288=>0.94173, 1703=>0.961426, 1956=>0.951008, 2350=>0.880356, 340…\n",
       "  6  => Dict(2288=>0.951008, 1703=>0.835551, 1956=>0.835551, 2350=>0.798272, 34…\n",
       "  67 => Dict(2288=>0.6, 1703=>0.991887, 1956=>0.977083, 2350=>0.991188, 3406=>0…\n",
       "  45 => Dict(2288=>0.912583, 1703=>0.973042, 1956=>0.145478, 2350=>0.992652, 34…\n",
       "  73 => Dict(2288=>0.76715, 1703=>0.961426, 1956=>0.961426, 2350=>0.798272, 340…\n",
       "  64 => Dict(2288=>0.996641, 1703=>0.945086, 1956=>0.365751, 2350=>0.951008, 34…\n",
       "  90 => Dict(2288=>0.980847, 1703=>0.468051, 1956=>0.961426, 2350=>0.951008, 34…\n",
       "  4  => Dict(2288=>0.912583, 1703=>0.991887, 1956=>0.917762, 2350=>0.908846, 34…\n",
       "  13 => Dict(2288=>0.819475, 1703=>0.996909, 1956=>0.798272, 2350=>0.790767, 34…\n",
       "  54 => Dict(2288=>0.951008, 1703=>0.985019, 1956=>0.961426, 2350=>0.991188, 34…\n",
       "  63 => Dict(2288=>0.977083, 1703=>0.945086, 1956=>0.988294, 2350=>0.632447, 34…\n",
       "  86 => Dict(2288=>0.912583, 1703=>0.996909, 1956=>0.993123, 2350=>0.951008, 34…\n",
       "  91 => Dict(2288=>0.187445, 1703=>0.997591, 1956=>0.835551, 2350=>0.798272, 34…\n",
       "  62 => Dict(2288=>0.977083, 1703=>0.996909, 1956=>0.560291, 2350=>0.76715, 340…\n",
       "  58 => Dict(2288=>0.980847, 1703=>0.954899, 1956=>0.977083, 2350=>0.951008, 34…\n",
       "  52 => Dict(2288=>0.632447, 1703=>0.997591, 1956=>0.951008, 2350=>0.980847, 34…\n",
       "  12 => Dict(2288=>0.880356, 1703=>0.961426, 1956=>0.853554, 2350=>0.912583, 34…\n",
       "  28 => Dict(2288=>0.977083, 1703=>0.365751, 1956=>0.55881, 2350=>0.790767, 340…\n",
       "  75 => Dict(2288=>0.983737, 1703=>0.988294, 1956=>0.76715, 2350=>0.709411, 340…\n",
       "  ⋮  => ⋮"
      ]
     },
     "execution_count": 17,
     "metadata": {},
     "output_type": "execute_result"
    }
   ],
   "source": [
    "data"
   ]
  },
  {
   "cell_type": "code",
   "execution_count": 18,
   "metadata": {},
   "outputs": [
    {
     "data": {
      "text/plain": [
       "100-element Vector{Float64}:\n",
       " 0.8174667678948271\n",
       " 0.8231813185795959\n",
       " 0.8192699750220256\n",
       " 0.8178702142286718\n",
       " 0.8241890436133065\n",
       " 0.8158230856642463\n",
       " 0.8181438712532594\n",
       " 0.8218829388399899\n",
       " 0.8213995395824544\n",
       " 0.8150839590230214\n",
       " 0.8206702446289591\n",
       " 0.8186095079624001\n",
       " 0.8237183159605951\n",
       " ⋮\n",
       " 0.82077791619113\n",
       " 0.8211968559931498\n",
       " 0.8222377461598174\n",
       " 0.8159993060249737\n",
       " 0.8210303447032903\n",
       " 0.8162005984432202\n",
       " 0.8200991456552179\n",
       " 0.8213773794401722\n",
       " 0.823686623333727\n",
       " 0.8113474985977905\n",
       " 0.8226316286149342\n",
       " 0.8255553685978374"
      ]
     },
     "execution_count": 18,
     "metadata": {},
     "output_type": "execute_result"
    }
   ],
   "source": [
    "# compute the average learned probablily for each experiment\n",
    "data_comb = [mean(values(x)) for x in values(data)] "
   ]
  },
  {
   "cell_type": "markdown",
   "metadata": {},
   "source": [
    "Let's see the spread of average probability between iterations, they should be quite close together."
   ]
  },
  {
   "cell_type": "code",
   "execution_count": 19,
   "metadata": {},
   "outputs": [
    {
     "data": {
      "image/png": "[encoded data removed]",
      "text/plain": [
       "Figure(PyObject <Figure size 640x480 with 1 Axes>)"
      ]
     },
     "metadata": {},
     "output_type": "display_data"
    }
   ],
   "source": [
    "boxplot(data_comb)\n",
    "grd(axis=\"y\", ls=\":\")"
   ]
  },
  {
   "cell_type": "markdown",
   "metadata": {},
   "source": [
    "Now compute the analytic expected learned probability for this instance and compare it to the empirical estimate. Don't try with many (>5) sources!"
   ]
  },
  {
   "cell_type": "code",
   "execution_count": 20,
   "metadata": {},
   "outputs": [
    {
     "name": "stdout",
     "output_type": "stream",
     "text": [
      "method = analytic\n",
      "Average learned probability = 0.8204\n",
      " 20.525656 seconds (238.06 M allocations: 14.962 GiB, 9.73% gc time, 0.24% compilation time)\n"
     ]
    },
    {
     "data": {
      "text/plain": [
       "0.8203601623304823"
      ]
     },
     "execution_count": 20,
     "metadata": {},
     "output_type": "execute_result"
    }
   ],
   "source": [
    "@time analytic_elp = influence(instance)"
   ]
  },
  {
   "cell_type": "code",
   "execution_count": 21,
   "metadata": {},
   "outputs": [
    {
     "name": "stdout",
     "output_type": "stream",
     "text": [
      "method = empirical\n",
      "Average learned probability = 0.8197\n",
      "  2.642061 seconds (40.25 M allocations: 2.331 GiB, 11.84% gc time)\n"
     ]
    },
    {
     "data": {
      "text/plain": [
       "0.8196610256928578"
      ]
     },
     "execution_count": 21,
     "metadata": {},
     "output_type": "execute_result"
    }
   ],
   "source": [
    "@time empirical_elp = influence(instance; method=:empirical)"
   ]
  },
  {
   "cell_type": "code",
   "execution_count": 22,
   "metadata": {},
   "outputs": [
    {
     "data": {
      "text/plain": [
       "-0.000852231336585546"
      ]
     },
     "execution_count": 22,
     "metadata": {},
     "output_type": "execute_result"
    }
   ],
   "source": [
    "diff = (empirical_elp - analytic_elp)/analytic_elp # percentage difference between the empirical and analytic estimates"
   ]
  },
  {
   "cell_type": "markdown",
   "metadata": {},
   "source": [
    "### Corrupting the sources"
   ]
  },
  {
   "cell_type": "markdown",
   "metadata": {},
   "source": [
    "Let's see the  effect of corrupting individual sources."
   ]
  },
  {
   "cell_type": "code",
   "execution_count": 23,
   "metadata": {},
   "outputs": [
    {
     "data": {
      "text/plain": [
       "Dict{Int64, Float64} with 5 entries:\n",
       "  2838 => 0.0\n",
       "  2247 => 0.0\n",
       "  1474 => 0.0\n",
       "  72   => 0.0\n",
       "  3824 => 0.0"
      ]
     },
     "execution_count": 23,
     "metadata": {},
     "output_type": "execute_result"
    }
   ],
   "source": [
    "corrupt_score = Dict(sources .=> zeros(length(sources))) # initialise"
   ]
  },
  {
   "cell_type": "code",
   "execution_count": 24,
   "metadata": {},
   "outputs": [
    {
     "name": "stdout",
     "output_type": "stream",
     "text": [
      "Source: 2247\n",
      "method: empirical\n",
      "Original average learned probability = 0.8202\n",
      "After corrupting [2247], the learned probability drops by  0.1109\n",
      "Corrupted average learned probability = 0.7093\n",
      "\n",
      "Source: 1474\n",
      "method: empirical\n",
      "Original average learned probability = 0.8208\n",
      "After corrupting [1474], the learned probability drops by  0.1302\n",
      "Corrupted average learned probability = 0.6906\n",
      "\n",
      "Source: 2838\n",
      "method: empirical\n",
      "Original average learned probability = 0.8212\n",
      "After corrupting [2838], the learned probability drops by  0.1063\n",
      "Corrupted average learned probability = 0.7149\n",
      "\n",
      "Source: 72\n",
      "method: empirical\n",
      "Original average learned probability = 0.8203\n",
      "After corrupting [72], the learned probability drops by  0.0834\n",
      "Corrupted average learned probability = 0.7369\n",
      "\n",
      "Source: 3824\n",
      "method: empirical\n",
      "Original average learned probability = 0.8201\n",
      "After corrupting [3824], the learned probability drops by  0.0792\n",
      "Corrupted average learned probability = 0.7408\n",
      "\n"
     ]
    }
   ],
   "source": [
    "for s in sources\n",
    "    println(\"Source: $s\")\n",
    "    corrupt_score[s] = influence(instance, [s]; method=:empirical)\n",
    "    println()\n",
    "end"
   ]
  },
  {
   "cell_type": "code",
   "execution_count": 25,
   "metadata": {},
   "outputs": [
    {
     "data": {
      "image/png": "[encoded data removed]",
      "text/plain": [
       "Figure(PyObject <Figure size 640x480 with 1 Axes>)"
      ]
     },
     "metadata": {},
     "output_type": "display_data"
    }
   ],
   "source": [
    "t = sources\n",
    "bar(1:length(t), [corrupt_score[s] for s in sources],\n",
    "    capsize=5, linewidth=1, edgecolor=\"black\", alpha=0.7)\n",
    "xticks(1:length(t), t, rotation = 90)\n",
    "ylabel(\"Influence\")\n",
    "xlabel(\"Source id\")\n",
    "PyPlot.grid(ls=\":\", axis=\"y\")\n",
    "# savefig(\"figs/sources_impact2.pdf\", bbox_inches=\"tight\");"
   ]
  },
  {
   "cell_type": "markdown",
   "metadata": {},
   "source": [
    "Visualising the sources on the graph. Doesn't work very well on bigger graphs. You may need to add extra packages to Julia."
   ]
  },
  {
   "cell_type": "code",
   "execution_count": 31,
   "metadata": {},
   "outputs": [],
   "source": [
    "#let's see where the sources are on the graph\n",
    "# using Cairo, Compose, Colors\n",
    "# nodefillc = [v in sources ? colorant\"orange\" : colorant\"blue\" for v in vertices(g)]\n",
    "# nodelabels = [v in sources ? v : \"\" for v in vertices(g)]\n",
    "# Compose.draw(SVG(\"figs/sources.svg\", 16cm, 16cm), gplot(g, nodefillc=nodefillc, nodelabel=nodelabels));"
   ]
  },
  {
   "cell_type": "code",
   "execution_count": 32,
   "metadata": {},
   "outputs": [],
   "source": [
    "# open(\"figs/sources.svg\") do f\n",
    "#    display(\"image/svg+xml\", read(f, String))\n",
    "# end"
   ]
  },
  {
   "cell_type": "markdown",
   "metadata": {},
   "source": [
    "## Testing the learning threshold "
   ]
  },
  {
   "cell_type": "code",
   "execution_count": 33,
   "metadata": {},
   "outputs": [
    {
     "data": {
      "text/plain": [
       "LT (generic function with 1 method)"
      ]
     },
     "execution_count": 33,
     "metadata": {},
     "output_type": "execute_result"
    }
   ],
   "source": [
    "LT(p, mu10, mu01, T) = 1/(p^T*(1-mu10-mu01)^(2*T))"
   ]
  },
  {
   "cell_type": "code",
   "execution_count": 34,
   "metadata": {},
   "outputs": [],
   "source": [
    "theta = 0.6# prior probability the true state is 1\n",
    "p = 0.9 # dropout rate\n",
    "mu10 = 0.1 # mutation from 1 to 0\n",
    "mu01 = 0.15; # mutation from 0 to 1"
   ]
  },
  {
   "cell_type": "code",
   "execution_count": 35,
   "metadata": {},
   "outputs": [
    {
     "name": "stdout",
     "output_type": "stream",
     "text": [
      "500\n",
      "\n",
      "1000\n",
      "\n",
      "1500\n",
      "\n",
      "2000\n",
      "\n",
      "2500\n",
      "\n",
      "3000\n",
      "\n",
      "3500\n",
      "\n",
      "4000\n",
      "\n",
      "4500\n",
      "\n",
      "5000\n",
      "\n"
     ]
    }
   ],
   "source": [
    "t = 500:500:5000\n",
    "N = 50\n",
    "\n",
    "diams = Dict(t .=> zeros(length(t)))\n",
    "learn_probs_log = Dict(t .=> zeros(length(t)))\n",
    "learn_probs_lin = Dict(t .=> zeros(length(t)))\n",
    "learn_probs_exact = Dict(t .=> zeros(length(t)))\n",
    "learn_probs_const = Dict(t .=> zeros(length(t)))\n",
    "\n",
    "\n",
    "for n in t\n",
    "    println(n)\n",
    "    g = watts_strogatz(n, 10, 0.1)\n",
    "#     diams[n] = diameter(g)\n",
    "#     c_const = LT(p, mu10, mu01, diams[t[1]])\n",
    "    c_const = 15\n",
    "    c_log = c_const/log(t[1])\n",
    "    c_lin = c_const/t[1]\n",
    "    \n",
    "    n_sources = Int(ceil(c_log*log(n)))\n",
    "    sources = sample(vertices(g), n_sources; replace=false)\n",
    "    original_msg = Dict(sources .=> ones(Int, length(sources)))\n",
    "    instance = Grapevine(g, sources, original_msg, mu10, mu01, p, theta)\n",
    "    data = run_experiment(instance, N)\n",
    "    learn_probs_log[n] = mean([mean(values(x)) for x in values(data)])\n",
    "    \n",
    "    n_sources = Int(ceil(c_lin*n))\n",
    "    sources = sample(vertices(g), n_sources; replace=false)\n",
    "    original_msg = Dict(sources .=> ones(Int, length(sources)))\n",
    "    instance = Grapevine(g, sources, original_msg, mu10, mu01, p, theta)\n",
    "    data = run_experiment(instance, N)\n",
    "    learn_probs_lin[n] = mean([mean(values(x)) for x in values(data)])\n",
    "    \n",
    "#     n_sources = Int(ceil(LT(p, mu10, mu01, diams[n])))\n",
    "#     sources = sample(vertices(g), n_sources; replace=false)\n",
    "#     original_msg = Dict(sources .=> ones(Int, length(sources)))\n",
    "#     instance = Grapevine(g, sources, original_msg, mu10, mu01, p, theta)\n",
    "#     data = run_experiment(instance, N)\n",
    "#     learn_probs_exact[n] = mean([mean(values(x)) for x in values(data)])\n",
    "    \n",
    "    n_sources = Int(ceil(c_const))\n",
    "    sources = sample(vertices(g), n_sources; replace=false)\n",
    "    original_msg = Dict(sources .=> ones(Int, length(sources)))\n",
    "    instance = Grapevine(g, sources, original_msg, mu10, mu01, p, theta)\n",
    "    data = run_experiment(instance, N)\n",
    "    learn_probs_const[n] = mean([mean(values(x)) for x in values(data)])\n",
    "    println()\n",
    "end"
   ]
  },
  {
   "cell_type": "code",
   "execution_count": 35,
   "metadata": {},
   "outputs": [
    {
     "data": {
      "image/png": "[encoded data removed]",
      "text/plain": [
       "Figure(PyObject <Figure size 640x480 with 1 Axes>)"
      ]
     },
     "metadata": {},
     "output_type": "display_data"
    }
   ],
   "source": [
    "# figure(figsize=[6, 4])\n",
    "# fig,ax = plt.subplots(figsize=(8, 6))\n",
    "\n",
    "# title(\"Watts-Strogatz (n, 10, 0.3)\")\n",
    "PyPlot.grid(ls=\":\")\n",
    "\n",
    "plot(t, [learn_probs_log[n] for n in t], label = L\"O(\\log n)\"*\" sources\")\n",
    "plot(t, [learn_probs_lin[n] for n in t], label = L\"O(n)\"*\" sources\")\n",
    "# plot(t, [learn_probs_exact[n] for n in t], label = L\"\\ell(n)\"*\" sources\")\n",
    "plot(t, [learn_probs_const[n] for n in t], label = L\"O(1)\"*\" sources\")\n",
    "\n",
    "\n",
    "axhline(theta, color=\"0.75\", label=\"prior, \"*L\"\\theta\")\n",
    "xlabel(\"Number of Nodes, \"*L\"n\")\n",
    "ylabel(\"Learned Probability\")\n",
    "\n",
    "xlim([t[1], t[end]])\n",
    "ylim([0.55, 1])\n",
    "# ax2 = ax.twinx()\n",
    "# ax2.plot(t, 2 .* log.(t), alpha=0.4, ls=\"--\", label=L\"2 \\log n\"*\" sources\")\n",
    "# ax2.plot(t, 0.02 .* t, alpha=0.4, ls=\"--\", label=L\"0.02n\"*\" sources\")\n",
    "# ylabel(\"Number of Sources\")\n",
    "\n",
    "legend()\n",
    "# subplots_adjust(bottom=0.25)\n",
    "\n",
    "# savefig(\"figs/learning_vs_sources.png\", bbox_inches=\"tight\")"
   ]
  }
 ],
 "metadata": {
  "kernelspec": {
   "display_name": "Julia 1.8.0",
   "language": "julia",
   "name": "julia-1.8"
  },
  "language_info": {
   "file_extension": ".jl",
   "mimetype": "application/julia",
   "name": "julia",
   "version": "1.8.0"
  }
 },
 "nbformat": 4,
 "nbformat_minor": 4
}
